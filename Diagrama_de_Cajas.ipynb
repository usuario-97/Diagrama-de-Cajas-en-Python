{
  "cells": [
    {
      "cell_type": "markdown",
      "source": [
        "# Diagrama de Cajas - Boxplot"
      ],
      "metadata": {
        "id": "n627fi8AALv7"
      },
      "id": "n627fi8AALv7"
    },
    {
      "cell_type": "markdown",
      "id": "1d5c73e8",
      "metadata": {
        "id": "1d5c73e8"
      },
      "source": [
        "## Cargas librerias"
      ]
    },
    {
      "cell_type": "code",
      "execution_count": 13,
      "id": "4e9e5181",
      "metadata": {
        "id": "4e9e5181"
      },
      "outputs": [],
      "source": [
        "import pandas as pd\n",
        "import matplotlib.pyplot as plt"
      ]
    },
    {
      "cell_type": "markdown",
      "id": "dea15755",
      "metadata": {
        "id": "dea15755"
      },
      "source": [
        "## Carga de dataset"
      ]
    },
    {
      "cell_type": "code",
      "source": [
        "ruta ='https://docs.google.com/spreadsheets/d/e/2PACX-1vRlxg4QWqjxVE53R36CF6Kui_Jh-DCFSywPziVQvrYm5uaFEj3x798wbmWoy3X8gu5AqK8NjuWu9hWE/pub?output=csv'\n",
        "ruta"
      ],
      "metadata": {
        "id": "TlbqeY_N-mg8",
        "colab": {
          "base_uri": "https://localhost:8080/",
          "height": 36
        },
        "outputId": "020ce2ed-d84b-402f-cb22-b88e0a1bc2d7"
      },
      "id": "TlbqeY_N-mg8",
      "execution_count": 14,
      "outputs": [
        {
          "output_type": "execute_result",
          "data": {
            "text/plain": [
              "'https://docs.google.com/spreadsheets/d/e/2PACX-1vRlxg4QWqjxVE53R36CF6Kui_Jh-DCFSywPziVQvrYm5uaFEj3x798wbmWoy3X8gu5AqK8NjuWu9hWE/pub?output=csv'"
            ],
            "application/vnd.google.colaboratory.intrinsic+json": {
              "type": "string"
            }
          },
          "metadata": {},
          "execution_count": 14
        }
      ]
    },
    {
      "cell_type": "code",
      "execution_count": 15,
      "id": "1f0f02bf",
      "metadata": {
        "id": "1f0f02bf",
        "colab": {
          "base_uri": "https://localhost:8080/",
          "height": 423
        },
        "outputId": "7f66b3cb-6067-4a24-90b0-d58e099d1166"
      },
      "outputs": [
        {
          "output_type": "execute_result",
          "data": {
            "text/plain": [
              "        TV  Radio  Newspaper  Sales\n",
              "1    230.1   37.8       69.2   22.1\n",
              "2     44.5   39.3       45.1   10.4\n",
              "3     17.2   45.9       69.3    9.3\n",
              "4    151.5   41.3       58.5   18.5\n",
              "5    180.8   10.8       58.4   12.9\n",
              "..     ...    ...        ...    ...\n",
              "196   38.2    3.7       13.8    7.6\n",
              "197   94.2    4.9        8.1    9.7\n",
              "198  177.0    9.3        6.4   12.8\n",
              "199  283.6   42.0       66.2   25.5\n",
              "200  232.1    8.6        8.7   13.4\n",
              "\n",
              "[200 rows x 4 columns]"
            ],
            "text/html": [
              "\n",
              "  <div id=\"df-ad61d435-a7a2-48c7-8fc4-ba0d3839de3f\">\n",
              "    <div class=\"colab-df-container\">\n",
              "      <div>\n",
              "<style scoped>\n",
              "    .dataframe tbody tr th:only-of-type {\n",
              "        vertical-align: middle;\n",
              "    }\n",
              "\n",
              "    .dataframe tbody tr th {\n",
              "        vertical-align: top;\n",
              "    }\n",
              "\n",
              "    .dataframe thead th {\n",
              "        text-align: right;\n",
              "    }\n",
              "</style>\n",
              "<table border=\"1\" class=\"dataframe\">\n",
              "  <thead>\n",
              "    <tr style=\"text-align: right;\">\n",
              "      <th></th>\n",
              "      <th>TV</th>\n",
              "      <th>Radio</th>\n",
              "      <th>Newspaper</th>\n",
              "      <th>Sales</th>\n",
              "    </tr>\n",
              "  </thead>\n",
              "  <tbody>\n",
              "    <tr>\n",
              "      <th>1</th>\n",
              "      <td>230.1</td>\n",
              "      <td>37.8</td>\n",
              "      <td>69.2</td>\n",
              "      <td>22.1</td>\n",
              "    </tr>\n",
              "    <tr>\n",
              "      <th>2</th>\n",
              "      <td>44.5</td>\n",
              "      <td>39.3</td>\n",
              "      <td>45.1</td>\n",
              "      <td>10.4</td>\n",
              "    </tr>\n",
              "    <tr>\n",
              "      <th>3</th>\n",
              "      <td>17.2</td>\n",
              "      <td>45.9</td>\n",
              "      <td>69.3</td>\n",
              "      <td>9.3</td>\n",
              "    </tr>\n",
              "    <tr>\n",
              "      <th>4</th>\n",
              "      <td>151.5</td>\n",
              "      <td>41.3</td>\n",
              "      <td>58.5</td>\n",
              "      <td>18.5</td>\n",
              "    </tr>\n",
              "    <tr>\n",
              "      <th>5</th>\n",
              "      <td>180.8</td>\n",
              "      <td>10.8</td>\n",
              "      <td>58.4</td>\n",
              "      <td>12.9</td>\n",
              "    </tr>\n",
              "    <tr>\n",
              "      <th>...</th>\n",
              "      <td>...</td>\n",
              "      <td>...</td>\n",
              "      <td>...</td>\n",
              "      <td>...</td>\n",
              "    </tr>\n",
              "    <tr>\n",
              "      <th>196</th>\n",
              "      <td>38.2</td>\n",
              "      <td>3.7</td>\n",
              "      <td>13.8</td>\n",
              "      <td>7.6</td>\n",
              "    </tr>\n",
              "    <tr>\n",
              "      <th>197</th>\n",
              "      <td>94.2</td>\n",
              "      <td>4.9</td>\n",
              "      <td>8.1</td>\n",
              "      <td>9.7</td>\n",
              "    </tr>\n",
              "    <tr>\n",
              "      <th>198</th>\n",
              "      <td>177.0</td>\n",
              "      <td>9.3</td>\n",
              "      <td>6.4</td>\n",
              "      <td>12.8</td>\n",
              "    </tr>\n",
              "    <tr>\n",
              "      <th>199</th>\n",
              "      <td>283.6</td>\n",
              "      <td>42.0</td>\n",
              "      <td>66.2</td>\n",
              "      <td>25.5</td>\n",
              "    </tr>\n",
              "    <tr>\n",
              "      <th>200</th>\n",
              "      <td>232.1</td>\n",
              "      <td>8.6</td>\n",
              "      <td>8.7</td>\n",
              "      <td>13.4</td>\n",
              "    </tr>\n",
              "  </tbody>\n",
              "</table>\n",
              "<p>200 rows × 4 columns</p>\n",
              "</div>\n",
              "      <button class=\"colab-df-convert\" onclick=\"convertToInteractive('df-ad61d435-a7a2-48c7-8fc4-ba0d3839de3f')\"\n",
              "              title=\"Convert this dataframe to an interactive table.\"\n",
              "              style=\"display:none;\">\n",
              "        \n",
              "  <svg xmlns=\"http://www.w3.org/2000/svg\" height=\"24px\"viewBox=\"0 0 24 24\"\n",
              "       width=\"24px\">\n",
              "    <path d=\"M0 0h24v24H0V0z\" fill=\"none\"/>\n",
              "    <path d=\"M18.56 5.44l.94 2.06.94-2.06 2.06-.94-2.06-.94-.94-2.06-.94 2.06-2.06.94zm-11 1L8.5 8.5l.94-2.06 2.06-.94-2.06-.94L8.5 2.5l-.94 2.06-2.06.94zm10 10l.94 2.06.94-2.06 2.06-.94-2.06-.94-.94-2.06-.94 2.06-2.06.94z\"/><path d=\"M17.41 7.96l-1.37-1.37c-.4-.4-.92-.59-1.43-.59-.52 0-1.04.2-1.43.59L10.3 9.45l-7.72 7.72c-.78.78-.78 2.05 0 2.83L4 21.41c.39.39.9.59 1.41.59.51 0 1.02-.2 1.41-.59l7.78-7.78 2.81-2.81c.8-.78.8-2.07 0-2.86zM5.41 20L4 18.59l7.72-7.72 1.47 1.35L5.41 20z\"/>\n",
              "  </svg>\n",
              "      </button>\n",
              "      \n",
              "  <style>\n",
              "    .colab-df-container {\n",
              "      display:flex;\n",
              "      flex-wrap:wrap;\n",
              "      gap: 12px;\n",
              "    }\n",
              "\n",
              "    .colab-df-convert {\n",
              "      background-color: #E8F0FE;\n",
              "      border: none;\n",
              "      border-radius: 50%;\n",
              "      cursor: pointer;\n",
              "      display: none;\n",
              "      fill: #1967D2;\n",
              "      height: 32px;\n",
              "      padding: 0 0 0 0;\n",
              "      width: 32px;\n",
              "    }\n",
              "\n",
              "    .colab-df-convert:hover {\n",
              "      background-color: #E2EBFA;\n",
              "      box-shadow: 0px 1px 2px rgba(60, 64, 67, 0.3), 0px 1px 3px 1px rgba(60, 64, 67, 0.15);\n",
              "      fill: #174EA6;\n",
              "    }\n",
              "\n",
              "    [theme=dark] .colab-df-convert {\n",
              "      background-color: #3B4455;\n",
              "      fill: #D2E3FC;\n",
              "    }\n",
              "\n",
              "    [theme=dark] .colab-df-convert:hover {\n",
              "      background-color: #434B5C;\n",
              "      box-shadow: 0px 1px 3px 1px rgba(0, 0, 0, 0.15);\n",
              "      filter: drop-shadow(0px 1px 2px rgba(0, 0, 0, 0.3));\n",
              "      fill: #FFFFFF;\n",
              "    }\n",
              "  </style>\n",
              "\n",
              "      <script>\n",
              "        const buttonEl =\n",
              "          document.querySelector('#df-ad61d435-a7a2-48c7-8fc4-ba0d3839de3f button.colab-df-convert');\n",
              "        buttonEl.style.display =\n",
              "          google.colab.kernel.accessAllowed ? 'block' : 'none';\n",
              "\n",
              "        async function convertToInteractive(key) {\n",
              "          const element = document.querySelector('#df-ad61d435-a7a2-48c7-8fc4-ba0d3839de3f');\n",
              "          const dataTable =\n",
              "            await google.colab.kernel.invokeFunction('convertToInteractive',\n",
              "                                                     [key], {});\n",
              "          if (!dataTable) return;\n",
              "\n",
              "          const docLinkHtml = 'Like what you see? Visit the ' +\n",
              "            '<a target=\"_blank\" href=https://colab.research.google.com/notebooks/data_table.ipynb>data table notebook</a>'\n",
              "            + ' to learn more about interactive tables.';\n",
              "          element.innerHTML = '';\n",
              "          dataTable['output_type'] = 'display_data';\n",
              "          await google.colab.output.renderOutput(dataTable, element);\n",
              "          const docLink = document.createElement('div');\n",
              "          docLink.innerHTML = docLinkHtml;\n",
              "          element.appendChild(docLink);\n",
              "        }\n",
              "      </script>\n",
              "    </div>\n",
              "  </div>\n",
              "  "
            ]
          },
          "metadata": {},
          "execution_count": 15
        }
      ],
      "source": [
        "data=pd.read_csv(ruta, index_col = 0)\n",
        "data"
      ]
    },
    {
      "cell_type": "markdown",
      "id": "0f191bd5",
      "metadata": {
        "id": "0f191bd5"
      },
      "source": [
        "## Diagrama de Cajas para la variable Sales"
      ]
    },
    {
      "cell_type": "code",
      "execution_count": 16,
      "id": "d0d6b237",
      "metadata": {
        "id": "d0d6b237",
        "colab": {
          "base_uri": "https://localhost:8080/"
        },
        "outputId": "76ec169d-20ea-47be-bc1c-06a72f603146"
      },
      "outputs": [
        {
          "output_type": "stream",
          "name": "stdout",
          "text": [
            "Q1: 10.375\n",
            "Q3: 17.4\n",
            "IQR: 7.024999999999999\n",
            "mediana: 12.9\n",
            "minimo: 1.6\n",
            "maximo: 27.0\n"
          ]
        }
      ],
      "source": [
        "# Calculando medidas del diagrama de cajas para la variable \"Sale\"\n",
        "Q1 = data['Sales'].quantile(0.25)\n",
        "print('Q1:',Q1)\n",
        "Q3 = data['Sales'].quantile(0.75)\n",
        "print('Q3:',Q3)\n",
        "IQR = Q3-Q1\n",
        "print('IQR:',IQR)\n",
        "\n",
        "mediana = data['Sales'].median()\n",
        "print('mediana:',mediana)\n",
        "minimo = data['Sales'].min()\n",
        "print('minimo:',minimo)\n",
        "maximo = data['Sales'].max()\n",
        "print('maximo:',maximo)\n",
        "\n",
        "#Los datos atipicos son aquellos que se encuentran fuera del intervalo [Q1-1.5*IQR, Q3+1.5*IQR]"
      ]
    },
    {
      "cell_type": "code",
      "execution_count": 17,
      "id": "5ede3b13",
      "metadata": {
        "id": "5ede3b13",
        "colab": {
          "base_uri": "https://localhost:8080/",
          "height": 501
        },
        "outputId": "e905b746-0dd0-46cb-bce3-94319baaa5fb"
      },
      "outputs": [
        {
          "output_type": "display_data",
          "data": {
            "text/plain": [
              "<Figure size 576x576 with 1 Axes>"
            ],
            "image/png": "[encoded data removed]"
          },
          "metadata": {
            "needs_background": "light"
          }
        }
      ],
      "source": [
        "fig, ax=plt.subplots(figsize=(8,8))\n",
        "ax.boxplot(data['Sales'])\n",
        "plt.xlabel(\"Ventas\")\n",
        "ax.annotate('Mediana: 12.9',xy=(1.1,12.9))\n",
        "ax.annotate('Q3: 17.4',xy=(1.1,17.4))\n",
        "ax.annotate('Q1: 10.375',xy=(1.1,10.375))\n",
        "ax.annotate('Extremo Superior: 27.0',xy=(1.1,27.0))\n",
        "ax.annotate('Extremo Inferior: 1.6',xy=(1.1,1.6))\n",
        "ax.set_yticks(range(0, 30,1))\n",
        "plt.show()\n",
        "\n",
        "#Al mostrarse la grafica podemos notar que para la variable \"Sales\" no presenta datos atipicos"
      ]
    },
    {
      "cell_type": "code",
      "execution_count": 18,
      "id": "aceb61bb",
      "metadata": {
        "id": "aceb61bb",
        "colab": {
          "base_uri": "https://localhost:8080/",
          "height": 606
        },
        "outputId": "4e1ec8cf-b1fa-4c09-8738-27dc541be4e4"
      },
      "outputs": [
        {
          "output_type": "display_data",
          "data": {
            "text/plain": [
              "<Figure size 720x720 with 1 Axes>"
            ],
            "image/png": "[encoded data removed]"
          },
          "metadata": {
            "needs_background": "light"
          }
        }
      ],
      "source": [
        "# Diagrama de cajas considerando una variable categorica\n",
        "import numpy as np\n",
        "import pandas as pd\n",
        "import seaborn as sns\n",
        "import matplotlib.pyplot as plt\n",
        "\n",
        "# Crear datos aleatorios\n",
        "np.random.seed(0)\n",
        "n = 50\n",
        "categorical_var = np.random.choice([\"A\", \"B\", \"C\", \"D\"], size=n)\n",
        "continuous_var1 = np.random.normal(10, 5, size=n)\n",
        "continuous_var2 = np.random.normal(20, 10, size=n)\n",
        "\n",
        "# Crear el DataFrame\n",
        "df = pd.DataFrame({\"categorical_var\": categorical_var,\n",
        "                   \"continuous_var1\": continuous_var1,\n",
        "                   \"continuous_var2\": continuous_var2})\n",
        "\n",
        "# Hacer el diagrama de cajas múltiples\n",
        "plt.subplots(figsize=(10,10))\n",
        "sns.boxplot(x=\"categorical_var\", y=\"continuous_var1\", data=df)\n",
        "plt.show()\n"
      ]
    }
  ],
  "metadata": {
    "kernelspec": {
      "display_name": "Python 3 (ipykernel)",
      "language": "python",
      "name": "python3"
    },
    "language_info": {
      "codemirror_mode": {
        "name": "ipython",
        "version": 3
      },
      "file_extension": ".py",
      "mimetype": "text/x-python",
      "name": "python",
      "nbconvert_exporter": "python",
      "pygments_lexer": "ipython3",
      "version": "3.9.7"
    },
    "colab": {
      "provenance": []
    }
  },
  "nbformat": 4,
  "nbformat_minor": 5
}